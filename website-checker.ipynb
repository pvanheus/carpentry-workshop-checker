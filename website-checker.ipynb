{
 "cells": [
  {
   "cell_type": "code",
   "execution_count": null,
   "metadata": {
    "collapsed": false
   },
   "outputs": [],
   "source": [
    "from subprocess import STDOUT, PIPE, Popen\n",
    "import os.path\n",
    "import os\n",
    "from io import StringIO"
   ]
  },
  {
   "cell_type": "code",
   "execution_count": null,
   "metadata": {
    "collapsed": true
   },
   "outputs": [],
   "source": [
    "def git_checkout(url, repo_path='workshop-repo'):\n",
    "    cmd = ['git', 'clone', url, repo_path]\n",
    "    proc = Popen(cmd, stdout=PIPE, stderr=STDOUT)\n",
    "    (output, _) = proc.communicate()\n",
    "    retcode = proc.wait()\n",
    "    if retcode != 0:\n",
    "        print(output)\n",
    "\n",
    "def git_pull(repo_path='workshop-repo'):\n",
    "    cmd = ['git', 'pull']\n",
    "    proc = Popen(cmd, cwd=os.path.join(os.getcwd(), repo_path), stdout=PIPE, stderr=STDOUT)\n",
    "    (output, _) = proc.communicate()\n",
    "    retcode = proc.wait()\n",
    "    if retcode != 0:\n",
    "        print(output)\n",
    "        \n",
    "def run_check(repo_path='workshop-repo'):\n",
    "    cmd = [os.path.join('workshop-repo', 'tools', 'check.py'), os.path.join('workshop-repo', 'index.html')]\n",
    "    proc = Popen(cmd, stdout=PIPE, stderr=STDOUT)\n",
    "    (output, _) = proc.communicate()\n",
    "    retcode = proc.wait()\n",
    "    print(\"retcode: {}\".format(retcode))\n",
    "    print(output.decode('utf-8'))"
   ]
  },
  {
   "cell_type": "code",
   "execution_count": null,
   "metadata": {
    "collapsed": false
   },
   "outputs": [],
   "source": [
    "# URL of workshop repository on GitHub\n",
    "workshop_repo_url = 'https://github.com/MSchoonen/2016-04-19-genomics.git'\n",
    "# Path to store workshop in locally: DO NOT EDIT without a good reason to do so\n",
    "workshop_path = 'workshop-repo'"
   ]
  },
  {
   "cell_type": "code",
   "execution_count": null,
   "metadata": {
    "collapsed": false
   },
   "outputs": [],
   "source": [
    "if not os.path.exists(workshop_path):\n",
    "    git_checkout(workshop_repo_url, workshop_path)\n",
    "else:\n",
    "    git_pull(workshop_path)\n",
    "run_check()"
   ]
  }
 ],
 "metadata": {
  "kernelspec": {
   "display_name": "Python 3",
   "language": "python",
   "name": "python3"
  },
  "language_info": {
   "codemirror_mode": {
    "name": "ipython",
    "version": 3
   },
   "file_extension": ".py",
   "mimetype": "text/x-python",
   "name": "python",
   "nbconvert_exporter": "python",
   "pygments_lexer": "ipython3",
   "version": "3.5.1"
  }
 },
 "nbformat": 4,
 "nbformat_minor": 0
}
